{
  "nbformat": 4,
  "nbformat_minor": 0,
  "metadata": {
    "colab": {
      "provenance": [],
      "gpuType": "T4"
    },
    "kernelspec": {
      "name": "python3",
      "display_name": "Python 3"
    },
    "language_info": {
      "name": "python"
    }
  },
  "cells": [
    {
      "cell_type": "markdown",
      "source": [
        "### **Importar de Librerías**"
      ],
      "metadata": {
        "id": "yUYD1HNHqci_"
      }
    },
    {
      "cell_type": "code",
      "execution_count": 1,
      "metadata": {
        "id": "HU66Fp10hf6Z"
      },
      "outputs": [],
      "source": [
        "import pandas as pd\n",
        "import ast\n",
        "import json"
      ]
    },
    {
      "cell_type": "markdown",
      "source": [
        "### **Cargar movies_dataset.csv**"
      ],
      "metadata": {
        "id": "EEBmYCKNqlPW"
      }
    },
    {
      "cell_type": "code",
      "source": [
        "# cargar movie_dataset en un dataframe de pandas\n",
        "df_movies = pd.read_csv('/content/drive/MyDrive/Colab Notebooks/movies_dataset.csv')"
      ],
      "metadata": {
        "id": "-edTVuvRiM3a"
      },
      "execution_count": null,
      "outputs": []
    },
    {
      "cell_type": "markdown",
      "source": [
        "### **Visualizar del dataset**"
      ],
      "metadata": {
        "id": "CjrM2H4GrA66"
      }
    },
    {
      "cell_type": "code",
      "source": [
        "df_movies.info()"
      ],
      "metadata": {
        "id": "qlPxh-PbqX9y",
        "colab": {
          "base_uri": "https://localhost:8080/"
        },
        "outputId": "7463a1ba-8861-40d7-a846-63b09eed8589"
      },
      "execution_count": 3,
      "outputs": [
        {
          "output_type": "stream",
          "name": "stdout",
          "text": [
            "<class 'pandas.core.frame.DataFrame'>\n",
            "RangeIndex: 45466 entries, 0 to 45465\n",
            "Data columns (total 24 columns):\n",
            " #   Column                 Non-Null Count  Dtype  \n",
            "---  ------                 --------------  -----  \n",
            " 0   adult                  45466 non-null  object \n",
            " 1   belongs_to_collection  4494 non-null   object \n",
            " 2   budget                 45466 non-null  object \n",
            " 3   genres                 45466 non-null  object \n",
            " 4   homepage               7782 non-null   object \n",
            " 5   id                     45466 non-null  object \n",
            " 6   imdb_id                45449 non-null  object \n",
            " 7   original_language      45455 non-null  object \n",
            " 8   original_title         45466 non-null  object \n",
            " 9   overview               44512 non-null  object \n",
            " 10  popularity             45461 non-null  object \n",
            " 11  poster_path            45080 non-null  object \n",
            " 12  production_companies   45463 non-null  object \n",
            " 13  production_countries   45463 non-null  object \n",
            " 14  release_date           45379 non-null  object \n",
            " 15  revenue                45460 non-null  float64\n",
            " 16  runtime                45203 non-null  float64\n",
            " 17  spoken_languages       45460 non-null  object \n",
            " 18  status                 45379 non-null  object \n",
            " 19  tagline                20412 non-null  object \n",
            " 20  title                  45460 non-null  object \n",
            " 21  video                  45460 non-null  object \n",
            " 22  vote_average           45460 non-null  float64\n",
            " 23  vote_count             45460 non-null  float64\n",
            "dtypes: float64(4), object(20)\n",
            "memory usage: 8.3+ MB\n"
          ]
        }
      ]
    },
    {
      "cell_type": "code",
      "source": [
        "df_movies.head()"
      ],
      "metadata": {
        "id": "RpqAJl2PrGcw",
        "colab": {
          "base_uri": "https://localhost:8080/",
          "height": 751
        },
        "outputId": "8f882d75-683b-40b0-82d7-a43ced4e328b"
      },
      "execution_count": 4,
      "outputs": [
        {
          "output_type": "execute_result",
          "data": {
            "text/plain": [
              "   adult                              belongs_to_collection    budget  \\\n",
              "0  False  {'id': 10194, 'name': 'Toy Story Collection', ...  30000000   \n",
              "1  False                                                NaN  65000000   \n",
              "2  False  {'id': 119050, 'name': 'Grumpy Old Men Collect...         0   \n",
              "3  False                                                NaN  16000000   \n",
              "4  False  {'id': 96871, 'name': 'Father of the Bride Col...         0   \n",
              "\n",
              "                                              genres  \\\n",
              "0  [{'id': 16, 'name': 'Animation'}, {'id': 35, '...   \n",
              "1  [{'id': 12, 'name': 'Adventure'}, {'id': 14, '...   \n",
              "2  [{'id': 10749, 'name': 'Romance'}, {'id': 35, ...   \n",
              "3  [{'id': 35, 'name': 'Comedy'}, {'id': 18, 'nam...   \n",
              "4                     [{'id': 35, 'name': 'Comedy'}]   \n",
              "\n",
              "                               homepage     id    imdb_id original_language  \\\n",
              "0  http://toystory.disney.com/toy-story    862  tt0114709                en   \n",
              "1                                   NaN   8844  tt0113497                en   \n",
              "2                                   NaN  15602  tt0113228                en   \n",
              "3                                   NaN  31357  tt0114885                en   \n",
              "4                                   NaN  11862  tt0113041                en   \n",
              "\n",
              "                original_title  \\\n",
              "0                    Toy Story   \n",
              "1                      Jumanji   \n",
              "2             Grumpier Old Men   \n",
              "3            Waiting to Exhale   \n",
              "4  Father of the Bride Part II   \n",
              "\n",
              "                                            overview  ... release_date  \\\n",
              "0  Led by Woody, Andy's toys live happily in his ...  ...   1995-10-30   \n",
              "1  When siblings Judy and Peter discover an encha...  ...   1995-12-15   \n",
              "2  A family wedding reignites the ancient feud be...  ...   1995-12-22   \n",
              "3  Cheated on, mistreated and stepped on, the wom...  ...   1995-12-22   \n",
              "4  Just when George Banks has recovered from his ...  ...   1995-02-10   \n",
              "\n",
              "       revenue runtime                                   spoken_languages  \\\n",
              "0  373554033.0    81.0           [{'iso_639_1': 'en', 'name': 'English'}]   \n",
              "1  262797249.0   104.0  [{'iso_639_1': 'en', 'name': 'English'}, {'iso...   \n",
              "2          0.0   101.0           [{'iso_639_1': 'en', 'name': 'English'}]   \n",
              "3   81452156.0   127.0           [{'iso_639_1': 'en', 'name': 'English'}]   \n",
              "4   76578911.0   106.0           [{'iso_639_1': 'en', 'name': 'English'}]   \n",
              "\n",
              "     status                                            tagline  \\\n",
              "0  Released                                                NaN   \n",
              "1  Released          Roll the dice and unleash the excitement!   \n",
              "2  Released  Still Yelling. Still Fighting. Still Ready for...   \n",
              "3  Released  Friends are the people who let you be yourself...   \n",
              "4  Released  Just When His World Is Back To Normal... He's ...   \n",
              "\n",
              "                         title  video vote_average vote_count  \n",
              "0                    Toy Story  False          7.7     5415.0  \n",
              "1                      Jumanji  False          6.9     2413.0  \n",
              "2             Grumpier Old Men  False          6.5       92.0  \n",
              "3            Waiting to Exhale  False          6.1       34.0  \n",
              "4  Father of the Bride Part II  False          5.7      173.0  \n",
              "\n",
              "[5 rows x 24 columns]"
            ],
            "text/html": [
              "\n",
              "  <div id=\"df-76d19327-1206-4388-9c1b-218b6e374bde\">\n",
              "    <div class=\"colab-df-container\">\n",
              "      <div>\n",
              "<style scoped>\n",
              "    .dataframe tbody tr th:only-of-type {\n",
              "        vertical-align: middle;\n",
              "    }\n",
              "\n",
              "    .dataframe tbody tr th {\n",
              "        vertical-align: top;\n",
              "    }\n",
              "\n",
              "    .dataframe thead th {\n",
              "        text-align: right;\n",
              "    }\n",
              "</style>\n",
              "<table border=\"1\" class=\"dataframe\">\n",
              "  <thead>\n",
              "    <tr style=\"text-align: right;\">\n",
              "      <th></th>\n",
              "      <th>adult</th>\n",
              "      <th>belongs_to_collection</th>\n",
              "      <th>budget</th>\n",
              "      <th>genres</th>\n",
              "      <th>homepage</th>\n",
              "      <th>id</th>\n",
              "      <th>imdb_id</th>\n",
              "      <th>original_language</th>\n",
              "      <th>original_title</th>\n",
              "      <th>overview</th>\n",
              "      <th>...</th>\n",
              "      <th>release_date</th>\n",
              "      <th>revenue</th>\n",
              "      <th>runtime</th>\n",
              "      <th>spoken_languages</th>\n",
              "      <th>status</th>\n",
              "      <th>tagline</th>\n",
              "      <th>title</th>\n",
              "      <th>video</th>\n",
              "      <th>vote_average</th>\n",
              "      <th>vote_count</th>\n",
              "    </tr>\n",
              "  </thead>\n",
              "  <tbody>\n",
              "    <tr>\n",
              "      <th>0</th>\n",
              "      <td>False</td>\n",
              "      <td>{'id': 10194, 'name': 'Toy Story Collection', ...</td>\n",
              "      <td>30000000</td>\n",
              "      <td>[{'id': 16, 'name': 'Animation'}, {'id': 35, '...</td>\n",
              "      <td>http://toystory.disney.com/toy-story</td>\n",
              "      <td>862</td>\n",
              "      <td>tt0114709</td>\n",
              "      <td>en</td>\n",
              "      <td>Toy Story</td>\n",
              "      <td>Led by Woody, Andy's toys live happily in his ...</td>\n",
              "      <td>...</td>\n",
              "      <td>1995-10-30</td>\n",
              "      <td>373554033.0</td>\n",
              "      <td>81.0</td>\n",
              "      <td>[{'iso_639_1': 'en', 'name': 'English'}]</td>\n",
              "      <td>Released</td>\n",
              "      <td>NaN</td>\n",
              "      <td>Toy Story</td>\n",
              "      <td>False</td>\n",
              "      <td>7.7</td>\n",
              "      <td>5415.0</td>\n",
              "    </tr>\n",
              "    <tr>\n",
              "      <th>1</th>\n",
              "      <td>False</td>\n",
              "      <td>NaN</td>\n",
              "      <td>65000000</td>\n",
              "      <td>[{'id': 12, 'name': 'Adventure'}, {'id': 14, '...</td>\n",
              "      <td>NaN</td>\n",
              "      <td>8844</td>\n",
              "      <td>tt0113497</td>\n",
              "      <td>en</td>\n",
              "      <td>Jumanji</td>\n",
              "      <td>When siblings Judy and Peter discover an encha...</td>\n",
              "      <td>...</td>\n",
              "      <td>1995-12-15</td>\n",
              "      <td>262797249.0</td>\n",
              "      <td>104.0</td>\n",
              "      <td>[{'iso_639_1': 'en', 'name': 'English'}, {'iso...</td>\n",
              "      <td>Released</td>\n",
              "      <td>Roll the dice and unleash the excitement!</td>\n",
              "      <td>Jumanji</td>\n",
              "      <td>False</td>\n",
              "      <td>6.9</td>\n",
              "      <td>2413.0</td>\n",
              "    </tr>\n",
              "    <tr>\n",
              "      <th>2</th>\n",
              "      <td>False</td>\n",
              "      <td>{'id': 119050, 'name': 'Grumpy Old Men Collect...</td>\n",
              "      <td>0</td>\n",
              "      <td>[{'id': 10749, 'name': 'Romance'}, {'id': 35, ...</td>\n",
              "      <td>NaN</td>\n",
              "      <td>15602</td>\n",
              "      <td>tt0113228</td>\n",
              "      <td>en</td>\n",
              "      <td>Grumpier Old Men</td>\n",
              "      <td>A family wedding reignites the ancient feud be...</td>\n",
              "      <td>...</td>\n",
              "      <td>1995-12-22</td>\n",
              "      <td>0.0</td>\n",
              "      <td>101.0</td>\n",
              "      <td>[{'iso_639_1': 'en', 'name': 'English'}]</td>\n",
              "      <td>Released</td>\n",
              "      <td>Still Yelling. Still Fighting. Still Ready for...</td>\n",
              "      <td>Grumpier Old Men</td>\n",
              "      <td>False</td>\n",
              "      <td>6.5</td>\n",
              "      <td>92.0</td>\n",
              "    </tr>\n",
              "    <tr>\n",
              "      <th>3</th>\n",
              "      <td>False</td>\n",
              "      <td>NaN</td>\n",
              "      <td>16000000</td>\n",
              "      <td>[{'id': 35, 'name': 'Comedy'}, {'id': 18, 'nam...</td>\n",
              "      <td>NaN</td>\n",
              "      <td>31357</td>\n",
              "      <td>tt0114885</td>\n",
              "      <td>en</td>\n",
              "      <td>Waiting to Exhale</td>\n",
              "      <td>Cheated on, mistreated and stepped on, the wom...</td>\n",
              "      <td>...</td>\n",
              "      <td>1995-12-22</td>\n",
              "      <td>81452156.0</td>\n",
              "      <td>127.0</td>\n",
              "      <td>[{'iso_639_1': 'en', 'name': 'English'}]</td>\n",
              "      <td>Released</td>\n",
              "      <td>Friends are the people who let you be yourself...</td>\n",
              "      <td>Waiting to Exhale</td>\n",
              "      <td>False</td>\n",
              "      <td>6.1</td>\n",
              "      <td>34.0</td>\n",
              "    </tr>\n",
              "    <tr>\n",
              "      <th>4</th>\n",
              "      <td>False</td>\n",
              "      <td>{'id': 96871, 'name': 'Father of the Bride Col...</td>\n",
              "      <td>0</td>\n",
              "      <td>[{'id': 35, 'name': 'Comedy'}]</td>\n",
              "      <td>NaN</td>\n",
              "      <td>11862</td>\n",
              "      <td>tt0113041</td>\n",
              "      <td>en</td>\n",
              "      <td>Father of the Bride Part II</td>\n",
              "      <td>Just when George Banks has recovered from his ...</td>\n",
              "      <td>...</td>\n",
              "      <td>1995-02-10</td>\n",
              "      <td>76578911.0</td>\n",
              "      <td>106.0</td>\n",
              "      <td>[{'iso_639_1': 'en', 'name': 'English'}]</td>\n",
              "      <td>Released</td>\n",
              "      <td>Just When His World Is Back To Normal... He's ...</td>\n",
              "      <td>Father of the Bride Part II</td>\n",
              "      <td>False</td>\n",
              "      <td>5.7</td>\n",
              "      <td>173.0</td>\n",
              "    </tr>\n",
              "  </tbody>\n",
              "</table>\n",
              "<p>5 rows × 24 columns</p>\n",
              "</div>\n",
              "      <button class=\"colab-df-convert\" onclick=\"convertToInteractive('df-76d19327-1206-4388-9c1b-218b6e374bde')\"\n",
              "              title=\"Convert this dataframe to an interactive table.\"\n",
              "              style=\"display:none;\">\n",
              "        \n",
              "  <svg xmlns=\"http://www.w3.org/2000/svg\" height=\"24px\"viewBox=\"0 0 24 24\"\n",
              "       width=\"24px\">\n",
              "    <path d=\"M0 0h24v24H0V0z\" fill=\"none\"/>\n",
              "    <path d=\"M18.56 5.44l.94 2.06.94-2.06 2.06-.94-2.06-.94-.94-2.06-.94 2.06-2.06.94zm-11 1L8.5 8.5l.94-2.06 2.06-.94-2.06-.94L8.5 2.5l-.94 2.06-2.06.94zm10 10l.94 2.06.94-2.06 2.06-.94-2.06-.94-.94-2.06-.94 2.06-2.06.94z\"/><path d=\"M17.41 7.96l-1.37-1.37c-.4-.4-.92-.59-1.43-.59-.52 0-1.04.2-1.43.59L10.3 9.45l-7.72 7.72c-.78.78-.78 2.05 0 2.83L4 21.41c.39.39.9.59 1.41.59.51 0 1.02-.2 1.41-.59l7.78-7.78 2.81-2.81c.8-.78.8-2.07 0-2.86zM5.41 20L4 18.59l7.72-7.72 1.47 1.35L5.41 20z\"/>\n",
              "  </svg>\n",
              "      </button>\n",
              "      \n",
              "  <style>\n",
              "    .colab-df-container {\n",
              "      display:flex;\n",
              "      flex-wrap:wrap;\n",
              "      gap: 12px;\n",
              "    }\n",
              "\n",
              "    .colab-df-convert {\n",
              "      background-color: #E8F0FE;\n",
              "      border: none;\n",
              "      border-radius: 50%;\n",
              "      cursor: pointer;\n",
              "      display: none;\n",
              "      fill: #1967D2;\n",
              "      height: 32px;\n",
              "      padding: 0 0 0 0;\n",
              "      width: 32px;\n",
              "    }\n",
              "\n",
              "    .colab-df-convert:hover {\n",
              "      background-color: #E2EBFA;\n",
              "      box-shadow: 0px 1px 2px rgba(60, 64, 67, 0.3), 0px 1px 3px 1px rgba(60, 64, 67, 0.15);\n",
              "      fill: #174EA6;\n",
              "    }\n",
              "\n",
              "    [theme=dark] .colab-df-convert {\n",
              "      background-color: #3B4455;\n",
              "      fill: #D2E3FC;\n",
              "    }\n",
              "\n",
              "    [theme=dark] .colab-df-convert:hover {\n",
              "      background-color: #434B5C;\n",
              "      box-shadow: 0px 1px 3px 1px rgba(0, 0, 0, 0.15);\n",
              "      filter: drop-shadow(0px 1px 2px rgba(0, 0, 0, 0.3));\n",
              "      fill: #FFFFFF;\n",
              "    }\n",
              "  </style>\n",
              "\n",
              "      <script>\n",
              "        const buttonEl =\n",
              "          document.querySelector('#df-76d19327-1206-4388-9c1b-218b6e374bde button.colab-df-convert');\n",
              "        buttonEl.style.display =\n",
              "          google.colab.kernel.accessAllowed ? 'block' : 'none';\n",
              "\n",
              "        async function convertToInteractive(key) {\n",
              "          const element = document.querySelector('#df-76d19327-1206-4388-9c1b-218b6e374bde');\n",
              "          const dataTable =\n",
              "            await google.colab.kernel.invokeFunction('convertToInteractive',\n",
              "                                                     [key], {});\n",
              "          if (!dataTable) return;\n",
              "\n",
              "          const docLinkHtml = 'Like what you see? Visit the ' +\n",
              "            '<a target=\"_blank\" href=https://colab.research.google.com/notebooks/data_table.ipynb>data table notebook</a>'\n",
              "            + ' to learn more about interactive tables.';\n",
              "          element.innerHTML = '';\n",
              "          dataTable['output_type'] = 'display_data';\n",
              "          await google.colab.output.renderOutput(dataTable, element);\n",
              "          const docLink = document.createElement('div');\n",
              "          docLink.innerHTML = docLinkHtml;\n",
              "          element.appendChild(docLink);\n",
              "        }\n",
              "      </script>\n",
              "    </div>\n",
              "  </div>\n",
              "  "
            ]
          },
          "metadata": {},
          "execution_count": 4
        }
      ]
    },
    {
      "cell_type": "code",
      "source": [
        "df_movies.describe()"
      ],
      "metadata": {
        "id": "UIEQU3TirLZP",
        "colab": {
          "base_uri": "https://localhost:8080/",
          "height": 300
        },
        "outputId": "026ce56c-c04f-4d38-a835-5c7bef3014d1"
      },
      "execution_count": 5,
      "outputs": [
        {
          "output_type": "execute_result",
          "data": {
            "text/plain": [
              "            revenue       runtime  vote_average    vote_count\n",
              "count  4.546000e+04  45203.000000  45460.000000  45460.000000\n",
              "mean   1.120935e+07     94.128199      5.618207    109.897338\n",
              "std    6.433225e+07     38.407810      1.924216    491.310374\n",
              "min    0.000000e+00      0.000000      0.000000      0.000000\n",
              "25%    0.000000e+00     85.000000      5.000000      3.000000\n",
              "50%    0.000000e+00     95.000000      6.000000     10.000000\n",
              "75%    0.000000e+00    107.000000      6.800000     34.000000\n",
              "max    2.787965e+09   1256.000000     10.000000  14075.000000"
            ],
            "text/html": [
              "\n",
              "  <div id=\"df-4b492d1d-cadc-46a7-bc5c-57a4b34ddb41\">\n",
              "    <div class=\"colab-df-container\">\n",
              "      <div>\n",
              "<style scoped>\n",
              "    .dataframe tbody tr th:only-of-type {\n",
              "        vertical-align: middle;\n",
              "    }\n",
              "\n",
              "    .dataframe tbody tr th {\n",
              "        vertical-align: top;\n",
              "    }\n",
              "\n",
              "    .dataframe thead th {\n",
              "        text-align: right;\n",
              "    }\n",
              "</style>\n",
              "<table border=\"1\" class=\"dataframe\">\n",
              "  <thead>\n",
              "    <tr style=\"text-align: right;\">\n",
              "      <th></th>\n",
              "      <th>revenue</th>\n",
              "      <th>runtime</th>\n",
              "      <th>vote_average</th>\n",
              "      <th>vote_count</th>\n",
              "    </tr>\n",
              "  </thead>\n",
              "  <tbody>\n",
              "    <tr>\n",
              "      <th>count</th>\n",
              "      <td>4.546000e+04</td>\n",
              "      <td>45203.000000</td>\n",
              "      <td>45460.000000</td>\n",
              "      <td>45460.000000</td>\n",
              "    </tr>\n",
              "    <tr>\n",
              "      <th>mean</th>\n",
              "      <td>1.120935e+07</td>\n",
              "      <td>94.128199</td>\n",
              "      <td>5.618207</td>\n",
              "      <td>109.897338</td>\n",
              "    </tr>\n",
              "    <tr>\n",
              "      <th>std</th>\n",
              "      <td>6.433225e+07</td>\n",
              "      <td>38.407810</td>\n",
              "      <td>1.924216</td>\n",
              "      <td>491.310374</td>\n",
              "    </tr>\n",
              "    <tr>\n",
              "      <th>min</th>\n",
              "      <td>0.000000e+00</td>\n",
              "      <td>0.000000</td>\n",
              "      <td>0.000000</td>\n",
              "      <td>0.000000</td>\n",
              "    </tr>\n",
              "    <tr>\n",
              "      <th>25%</th>\n",
              "      <td>0.000000e+00</td>\n",
              "      <td>85.000000</td>\n",
              "      <td>5.000000</td>\n",
              "      <td>3.000000</td>\n",
              "    </tr>\n",
              "    <tr>\n",
              "      <th>50%</th>\n",
              "      <td>0.000000e+00</td>\n",
              "      <td>95.000000</td>\n",
              "      <td>6.000000</td>\n",
              "      <td>10.000000</td>\n",
              "    </tr>\n",
              "    <tr>\n",
              "      <th>75%</th>\n",
              "      <td>0.000000e+00</td>\n",
              "      <td>107.000000</td>\n",
              "      <td>6.800000</td>\n",
              "      <td>34.000000</td>\n",
              "    </tr>\n",
              "    <tr>\n",
              "      <th>max</th>\n",
              "      <td>2.787965e+09</td>\n",
              "      <td>1256.000000</td>\n",
              "      <td>10.000000</td>\n",
              "      <td>14075.000000</td>\n",
              "    </tr>\n",
              "  </tbody>\n",
              "</table>\n",
              "</div>\n",
              "      <button class=\"colab-df-convert\" onclick=\"convertToInteractive('df-4b492d1d-cadc-46a7-bc5c-57a4b34ddb41')\"\n",
              "              title=\"Convert this dataframe to an interactive table.\"\n",
              "              style=\"display:none;\">\n",
              "        \n",
              "  <svg xmlns=\"http://www.w3.org/2000/svg\" height=\"24px\"viewBox=\"0 0 24 24\"\n",
              "       width=\"24px\">\n",
              "    <path d=\"M0 0h24v24H0V0z\" fill=\"none\"/>\n",
              "    <path d=\"M18.56 5.44l.94 2.06.94-2.06 2.06-.94-2.06-.94-.94-2.06-.94 2.06-2.06.94zm-11 1L8.5 8.5l.94-2.06 2.06-.94-2.06-.94L8.5 2.5l-.94 2.06-2.06.94zm10 10l.94 2.06.94-2.06 2.06-.94-2.06-.94-.94-2.06-.94 2.06-2.06.94z\"/><path d=\"M17.41 7.96l-1.37-1.37c-.4-.4-.92-.59-1.43-.59-.52 0-1.04.2-1.43.59L10.3 9.45l-7.72 7.72c-.78.78-.78 2.05 0 2.83L4 21.41c.39.39.9.59 1.41.59.51 0 1.02-.2 1.41-.59l7.78-7.78 2.81-2.81c.8-.78.8-2.07 0-2.86zM5.41 20L4 18.59l7.72-7.72 1.47 1.35L5.41 20z\"/>\n",
              "  </svg>\n",
              "      </button>\n",
              "      \n",
              "  <style>\n",
              "    .colab-df-container {\n",
              "      display:flex;\n",
              "      flex-wrap:wrap;\n",
              "      gap: 12px;\n",
              "    }\n",
              "\n",
              "    .colab-df-convert {\n",
              "      background-color: #E8F0FE;\n",
              "      border: none;\n",
              "      border-radius: 50%;\n",
              "      cursor: pointer;\n",
              "      display: none;\n",
              "      fill: #1967D2;\n",
              "      height: 32px;\n",
              "      padding: 0 0 0 0;\n",
              "      width: 32px;\n",
              "    }\n",
              "\n",
              "    .colab-df-convert:hover {\n",
              "      background-color: #E2EBFA;\n",
              "      box-shadow: 0px 1px 2px rgba(60, 64, 67, 0.3), 0px 1px 3px 1px rgba(60, 64, 67, 0.15);\n",
              "      fill: #174EA6;\n",
              "    }\n",
              "\n",
              "    [theme=dark] .colab-df-convert {\n",
              "      background-color: #3B4455;\n",
              "      fill: #D2E3FC;\n",
              "    }\n",
              "\n",
              "    [theme=dark] .colab-df-convert:hover {\n",
              "      background-color: #434B5C;\n",
              "      box-shadow: 0px 1px 3px 1px rgba(0, 0, 0, 0.15);\n",
              "      filter: drop-shadow(0px 1px 2px rgba(0, 0, 0, 0.3));\n",
              "      fill: #FFFFFF;\n",
              "    }\n",
              "  </style>\n",
              "\n",
              "      <script>\n",
              "        const buttonEl =\n",
              "          document.querySelector('#df-4b492d1d-cadc-46a7-bc5c-57a4b34ddb41 button.colab-df-convert');\n",
              "        buttonEl.style.display =\n",
              "          google.colab.kernel.accessAllowed ? 'block' : 'none';\n",
              "\n",
              "        async function convertToInteractive(key) {\n",
              "          const element = document.querySelector('#df-4b492d1d-cadc-46a7-bc5c-57a4b34ddb41');\n",
              "          const dataTable =\n",
              "            await google.colab.kernel.invokeFunction('convertToInteractive',\n",
              "                                                     [key], {});\n",
              "          if (!dataTable) return;\n",
              "\n",
              "          const docLinkHtml = 'Like what you see? Visit the ' +\n",
              "            '<a target=\"_blank\" href=https://colab.research.google.com/notebooks/data_table.ipynb>data table notebook</a>'\n",
              "            + ' to learn more about interactive tables.';\n",
              "          element.innerHTML = '';\n",
              "          dataTable['output_type'] = 'display_data';\n",
              "          await google.colab.output.renderOutput(dataTable, element);\n",
              "          const docLink = document.createElement('div');\n",
              "          docLink.innerHTML = docLinkHtml;\n",
              "          element.appendChild(docLink);\n",
              "        }\n",
              "      </script>\n",
              "    </div>\n",
              "  </div>\n",
              "  "
            ]
          },
          "metadata": {},
          "execution_count": 5
        }
      ]
    },
    {
      "cell_type": "markdown",
      "source": [
        "### **Detectar y arreglar problemas con columnas divididas**"
      ],
      "metadata": {
        "id": "gPM0ZrCZMXT8"
      }
    },
    {
      "cell_type": "code",
      "source": [
        "# identificar id que no sean numéricos]\n",
        "# convertir la columna 'id' a numérica y asignar NaN a los valores no enteros\n",
        "df_movies['id_numeric'] = pd.to_numeric(df_movies['id'], errors='coerce')\n",
        "# filtrar los valores no enteros\n",
        "non_integer_values = df_movies[df_movies['id_numeric'].isnull()]\n",
        "# imprimir los valores no enteros\n",
        "print(non_integer_values)\n",
        "df_movies = df_movies.drop('id_numeric', axis=1) #Eliminar la columna 'id_numeric' para dejar las columnas originales"
      ],
      "metadata": {
        "id": "NmzIhF4-wF3e",
        "colab": {
          "base_uri": "https://localhost:8080/"
        },
        "outputId": "afefc816-fbed-4b04-c9bb-2e73f13ea3e3"
      },
      "execution_count": 6,
      "outputs": [
        {
          "output_type": "stream",
          "name": "stdout",
          "text": [
            "                                                   adult  \\\n",
            "19730                                 - Written by Ørnås   \n",
            "29503   Rune Balot goes to a casino connected to the ...   \n",
            "35587   Avalanche Sharks tells the story of a bikini ...   \n",
            "\n",
            "      belongs_to_collection                            budget  \\\n",
            "19730              0.065736  /ff9qCepilowshEtG2GYWwzt2bs4.jpg   \n",
            "29503              1.931659  /zV8bHuSL6WXoD6FWogP9j4x80bL.jpg   \n",
            "35587              2.185485  /zaSf5OG7V8X8gqFvly88zDdRm46.jpg   \n",
            "\n",
            "                                                  genres  \\\n",
            "19730  [{'name': 'Carousel Productions', 'id': 11176}...   \n",
            "29503  [{'name': 'Aniplex', 'id': 2883}, {'name': 'Go...   \n",
            "35587  [{'name': 'Odyssey Media', 'id': 17161}, {'nam...   \n",
            "\n",
            "                                                homepage          id imdb_id  \\\n",
            "19730  [{'iso_3166_1': 'CA', 'name': 'Canada'}, {'iso...  1997-08-20       0   \n",
            "29503  [{'iso_3166_1': 'US', 'name': 'United States o...  2012-09-29       0   \n",
            "35587           [{'iso_3166_1': 'CA', 'name': 'Canada'}]  2014-01-01       0   \n",
            "\n",
            "      original_language                            original_title  overview  \\\n",
            "19730             104.0  [{'iso_639_1': 'en', 'name': 'English'}]  Released   \n",
            "29503              68.0      [{'iso_639_1': 'ja', 'name': '日本語'}]  Released   \n",
            "35587              82.0  [{'iso_639_1': 'en', 'name': 'English'}]  Released   \n",
            "\n",
            "       ... revenue runtime spoken_languages status tagline  title  video  \\\n",
            "19730  ...     NaN     NaN              NaN    NaN     NaN    NaN    NaN   \n",
            "29503  ...     NaN     NaN              NaN    NaN     NaN    NaN    NaN   \n",
            "35587  ...     NaN     NaN              NaN    NaN     NaN    NaN    NaN   \n",
            "\n",
            "      vote_average vote_count id_numeric  \n",
            "19730          NaN        NaN        NaN  \n",
            "29503          NaN        NaN        NaN  \n",
            "35587          NaN        NaN        NaN  \n",
            "\n",
            "[3 rows x 25 columns]\n"
          ]
        }
      ]
    },
    {
      "cell_type": "code",
      "source": [
        "# función para corregir el error de los registros que están divididos en dos filas\n",
        "def merge_and_delete(df, indices):\n",
        "    new_df = df.copy()  # copia el DataFrame original para evitar modificarlo directamente\n",
        "\n",
        "    for index in indices:\n",
        "        # obtener valores a modificar\n",
        "        value1 = new_df.iloc[index, 0]\n",
        "        value2 = new_df.iloc[index-1, 9]\n",
        "\n",
        "        # concatenar los valores\n",
        "        concatenated_value = str(value2) + str(value1)\n",
        "\n",
        "        # actualizar el valor de la columna 10 del registro anterior con el resultado concatenado\n",
        "        new_df.iloc[index-1, 9] = concatenated_value\n",
        "\n",
        "        # copiar los valores del registro actual en las columnas 10 a 23 del registro anterior\n",
        "        values = new_df.iloc[index, 1:14].values\n",
        "        new_df.iloc[index-1, 10:23] = values\n",
        "\n",
        "    # eliminar los registros indicados\n",
        "    new_df = new_df.drop(indices)\n",
        "\n",
        "    # reindexar el dataframe\n",
        "    new_df = new_df.reset_index(drop=True)\n",
        "    return new_df"
      ],
      "metadata": {
        "id": "WdhVMbHaiwBp"
      },
      "execution_count": 7,
      "outputs": []
    },
    {
      "cell_type": "code",
      "source": [
        "# corregir los registros divididos en dos filas identificados anteriormente\n",
        "indices = [19730, 29503, 35587]\n",
        "df_movies = merge_and_delete(df_movies, indices)"
      ],
      "metadata": {
        "id": "_soWyFiH0YBk"
      },
      "execution_count": 8,
      "outputs": []
    },
    {
      "cell_type": "markdown",
      "source": [
        "### **Desanidar columnas que contienen diccionarios**"
      ],
      "metadata": {
        "id": "jdFCL8mwMxpq"
      }
    },
    {
      "cell_type": "code",
      "source": [
        "# funcion para desanidar diccionarios\n",
        "def desanidar_columnas(df, columnas):\n",
        "    for columna in columnas:\n",
        "        # convertir la columna en una lista de diccionarios\n",
        "        df[columna] = df[columna].apply(lambda x: ast.literal_eval(x))\n",
        "\n",
        "        # cbtener los valores de cada diccionario y manejar las celdas vacías\n",
        "        df[columna] = df[columna].apply(lambda x: [item['name'] for item in x] if x else ['sin dato'])\n",
        "\n",
        "        # rellenar las celdas vacías con ['sin dato']\n",
        "        df[columna] = df[columna].apply(lambda x: x if x else ['sin dato'])"
      ],
      "metadata": {
        "id": "LK9wOJlQfYBV"
      },
      "execution_count": 9,
      "outputs": []
    },
    {
      "cell_type": "code",
      "source": [
        "# desanidar la columna 'belong_to_collection'\n",
        "df_movies['belongs_to_collection'] = df_movies['belongs_to_collection'].apply(lambda x: ast.literal_eval(x) if pd.notnull(x) else {})\n",
        "\n",
        "# crear columnas separadas\n",
        "df_movies['id_collection'] = df_movies['belongs_to_collection'].apply(lambda x: x.get('id', 0))\n",
        "df_movies['name_collection'] = df_movies['belongs_to_collection'].apply(lambda x: x.get('name', 'sin dato'))\n",
        "df_movies['poster_path_collection'] = df_movies['belongs_to_collection'].apply(lambda x: x.get('poster_path', 'sin dato'))\n",
        "df_movies['backdrop_path_collection'] = df_movies['belongs_to_collection'].apply(lambda x: x.get('backdrop_path', 'sin dato'))\n",
        "\n",
        "# eliminar la columna original 'belong_to_collection'\n",
        "df_movies.drop('belongs_to_collection', axis=1, inplace=True)"
      ],
      "metadata": {
        "id": "fc1PGjxtQYg8"
      },
      "execution_count": 10,
      "outputs": []
    },
    {
      "cell_type": "code",
      "source": [
        "# desanidar las otras columnas con diccionarios\n",
        "columnas_a_desanidar = ['genres', 'production_companies', 'production_countries', 'spoken_languages']\n",
        "desanidar_columnas(df_movies, columnas_a_desanidar)"
      ],
      "metadata": {
        "id": "t6arcYDrPGtZ"
      },
      "execution_count": 11,
      "outputs": []
    },
    {
      "cell_type": "code",
      "source": [
        "df_movies.columns"
      ],
      "metadata": {
        "id": "_n955xdvJhvq",
        "colab": {
          "base_uri": "https://localhost:8080/"
        },
        "outputId": "55495ca1-3853-4ece-e8fd-1a8638bdbda2"
      },
      "execution_count": 12,
      "outputs": [
        {
          "output_type": "execute_result",
          "data": {
            "text/plain": [
              "Index(['adult', 'budget', 'genres', 'homepage', 'id', 'imdb_id',\n",
              "       'original_language', 'original_title', 'overview', 'popularity',\n",
              "       'poster_path', 'production_companies', 'production_countries',\n",
              "       'release_date', 'revenue', 'runtime', 'spoken_languages', 'status',\n",
              "       'tagline', 'title', 'video', 'vote_average', 'vote_count',\n",
              "       'id_collection', 'name_collection', 'poster_path_collection',\n",
              "       'backdrop_path_collection'],\n",
              "      dtype='object')"
            ]
          },
          "metadata": {},
          "execution_count": 12
        }
      ]
    },
    {
      "cell_type": "markdown",
      "source": [
        "### **Identificar y eliminar duplicados**"
      ],
      "metadata": {
        "id": "2ymrlgpmTdOy"
      }
    },
    {
      "cell_type": "code",
      "source": [
        "# lista de columnas a convertir\n",
        "columns_to_convert = ['genres', 'production_companies', 'production_countries', 'spoken_languages']\n",
        "\n",
        "# convertir listas a tuplas para poder identificar duplicados\n",
        "df_movies[columns_to_convert] = df_movies[columns_to_convert].applymap(lambda x: tuple(x) if isinstance(x, (list)) else x)\n",
        "\n",
        "# contar duplicados\n",
        "df_movies.duplicated().sum()"
      ],
      "metadata": {
        "id": "yQ7ovTNbFrPT",
        "colab": {
          "base_uri": "https://localhost:8080/"
        },
        "outputId": "1465d378-832b-4b88-c6aa-574a1d33dc59"
      },
      "execution_count": 13,
      "outputs": [
        {
          "output_type": "execute_result",
          "data": {
            "text/plain": [
              "13"
            ]
          },
          "metadata": {},
          "execution_count": 13
        }
      ]
    },
    {
      "cell_type": "code",
      "source": [
        "# eliminar duplicados\n",
        "df_movies = df_movies.drop_duplicates()\n",
        "\n",
        "# reindexar el dataframe\n",
        "df_movies = df_movies.reset_index(drop=True)"
      ],
      "metadata": {
        "id": "UOEhAogU1rJa"
      },
      "execution_count": 14,
      "outputs": []
    },
    {
      "cell_type": "markdown",
      "source": [
        "### **Remover columnas indicadas en el enunciado del proyecto**"
      ],
      "metadata": {
        "id": "9LhhQQWNTsPQ"
      }
    },
    {
      "cell_type": "code",
      "source": [
        "# remover las columnas del DataFrame solicitadas en el enunciado del PI\n",
        "columnas_a_remover = ['video','imdb_id','adult','original_title','poster_path','homepage']\n",
        "df_movies = df_movies.drop(columnas_a_remover, axis=1)"
      ],
      "metadata": {
        "id": "uvdXVjgW4Gvv"
      },
      "execution_count": 15,
      "outputs": []
    },
    {
      "cell_type": "markdown",
      "source": [
        "### **Adecuar tipo de columnas de acuerdo a los datos que contienen**"
      ],
      "metadata": {
        "id": "dl0vRvdwW9nT"
      }
    },
    {
      "cell_type": "code",
      "source": [
        "# convertir las columnas 'budget', 'revenue' y 'runtime' a tipo numérico (float)\n",
        "columnas_a_numeric = ['budget', 'revenue', 'runtime', 'popularity', 'vote_average']\n",
        "df_movies[columnas_a_numeric] = df_movies[columnas_a_numeric].apply(pd.to_numeric)"
      ],
      "metadata": {
        "id": "bKEgEm2sYulH"
      },
      "execution_count": 16,
      "outputs": []
    },
    {
      "cell_type": "code",
      "source": [
        "# convertir columna 'release_date' a formato fecha\n",
        "df_movies['release_date'] = pd.to_datetime(df_movies['release_date'], format='%Y-%m-%d')"
      ],
      "metadata": {
        "id": "KcISqKvREH56"
      },
      "execution_count": 17,
      "outputs": []
    },
    {
      "cell_type": "markdown",
      "source": [
        "### **Tratar valores nulos**"
      ],
      "metadata": {
        "id": "bujeUWEdTwcY"
      }
    },
    {
      "cell_type": "code",
      "source": [
        "# obtener las columnas con valores nulos\n",
        "columnas_nulas = df_movies.columns[df_movies.isnull().any()]\n",
        "\n",
        "# obtener los tipos de datos de las columnas con valores nulos\n",
        "tipos_columnas_nulas = df_movies[columnas_nulas].dtypes\n",
        "\n",
        "# mostrar los tipos de datos de las columnas con valores nulos\n",
        "print(tipos_columnas_nulas)"
      ],
      "metadata": {
        "id": "QNGNQGi223Dz",
        "colab": {
          "base_uri": "https://localhost:8080/"
        },
        "outputId": "09108c61-5158-4d03-dc57-155c2e40ec19"
      },
      "execution_count": 18,
      "outputs": [
        {
          "output_type": "stream",
          "name": "stdout",
          "text": [
            "original_language                   object\n",
            "overview                            object\n",
            "release_date                datetime64[ns]\n",
            "runtime                            float64\n",
            "status                              object\n",
            "tagline                             object\n",
            "vote_count                         float64\n",
            "poster_path_collection              object\n",
            "backdrop_path_collection            object\n",
            "dtype: object\n"
          ]
        }
      ]
    },
    {
      "cell_type": "code",
      "source": [
        "# lista de columnas no numéricas en las que se reemplazarán los valores nulos\n",
        "columnas_sin_dato = ['original_language','overview','status','tagline','poster_path_collection','backdrop_path_collection']\n",
        "\n",
        "# completar los valores nulos en las columnas seleccionadas con 'sin dato'\n",
        "df_movies[columnas_sin_dato] = df_movies[columnas_sin_dato].fillna('sin dato')\n",
        "\n",
        "# lista de columnas numéricas en las que se reemplazarán los valores nulos\n",
        "columnas_cero = ['runtime','vote_count']\n",
        "\n",
        "# completar los valores nulos en las columnas seleccionadas con 'sin dato'\n",
        "df_movies[columnas_cero] = df_movies[columnas_cero].fillna(0)"
      ],
      "metadata": {
        "id": "KeRlgq-V4FNx"
      },
      "execution_count": 19,
      "outputs": []
    },
    {
      "cell_type": "code",
      "source": [
        "# eliminar registros con el campo 'release_date' nulo\n",
        "df_movies.dropna(subset=['release_date'], inplace=True)"
      ],
      "metadata": {
        "id": "tbHVMHsd483O"
      },
      "execution_count": 20,
      "outputs": []
    },
    {
      "cell_type": "markdown",
      "source": [
        "### **Crear columnas solicitadas en el enunciado del proyecto**"
      ],
      "metadata": {
        "id": "Wo4EWt3Ka8IG"
      }
    },
    {
      "cell_type": "code",
      "source": [
        "# crear la columna \"return\" para guardar el retorno de inversión\n",
        "df_movies['return'] = 0  # Inicializar la columna \"return\" con valor 0\n",
        "\n",
        "# calcular el retorno de inversión solo cuando \"budget\" sea diferente de 0\n",
        "mask = df_movies['budget'] != 0\n",
        "df_movies.loc[mask, 'return'] = df_movies.loc[mask, 'revenue'] / df_movies.loc[mask, 'budget']"
      ],
      "metadata": {
        "id": "gzxVMrbZ9b4U"
      },
      "execution_count": 21,
      "outputs": []
    },
    {
      "cell_type": "code",
      "source": [
        "# extraer el año y guardarlo en la columna 'release_year'\n",
        "df_movies['release_year'] = pd.to_datetime(df_movies['release_date']).apply(lambda x: x.year)"
      ],
      "metadata": {
        "id": "BGOAdTWJGHBx"
      },
      "execution_count": 22,
      "outputs": []
    },
    {
      "cell_type": "markdown",
      "source": [
        "### **Convertir a *integer* algunas columnas**"
      ],
      "metadata": {
        "id": "Oj0AMFjKbkeb"
      }
    },
    {
      "cell_type": "code",
      "source": [
        "# lista de columnas que se convertirán a int\n",
        "columnas_a_int = ['id', 'vote_count', 'id_collection']\n",
        "\n",
        "# convertir las columnas seleccionadas de float a int\n",
        "df_movies[columnas_a_int] = df_movies[columnas_a_int].astype('int64')"
      ],
      "metadata": {
        "id": "h64YLu8U6HDv"
      },
      "execution_count": 23,
      "outputs": []
    },
    {
      "cell_type": "markdown",
      "source": [
        "### **Cargar credits.csv**"
      ],
      "metadata": {
        "id": "X1TMPH3Xs0IU"
      }
    },
    {
      "cell_type": "code",
      "source": [
        "# cargar credits en un dataframe de pandas\n",
        "df_credits = pd.read_csv('/content/drive/MyDrive/Colab Notebooks/credits.csv')"
      ],
      "metadata": {
        "id": "Yn4oBYd-CwGI"
      },
      "execution_count": 24,
      "outputs": []
    },
    {
      "cell_type": "markdown",
      "source": [
        "### **Visualizar dataset**"
      ],
      "metadata": {
        "id": "f0Dok9Nyti72"
      }
    },
    {
      "cell_type": "code",
      "source": [
        "df_credits.info()"
      ],
      "metadata": {
        "id": "s2XDTXg7DDQG",
        "colab": {
          "base_uri": "https://localhost:8080/"
        },
        "outputId": "57509561-2d69-49dc-b745-603e5bc3d988"
      },
      "execution_count": 25,
      "outputs": [
        {
          "output_type": "stream",
          "name": "stdout",
          "text": [
            "<class 'pandas.core.frame.DataFrame'>\n",
            "RangeIndex: 45476 entries, 0 to 45475\n",
            "Data columns (total 3 columns):\n",
            " #   Column  Non-Null Count  Dtype \n",
            "---  ------  --------------  ----- \n",
            " 0   cast    45476 non-null  object\n",
            " 1   crew    45476 non-null  object\n",
            " 2   id      45476 non-null  int64 \n",
            "dtypes: int64(1), object(2)\n",
            "memory usage: 1.0+ MB\n"
          ]
        }
      ]
    },
    {
      "cell_type": "code",
      "source": [
        "df_credits.head()"
      ],
      "metadata": {
        "id": "_gG3K05hDIw6",
        "colab": {
          "base_uri": "https://localhost:8080/",
          "height": 206
        },
        "outputId": "2d9b6d9d-8c43-4996-a93b-ed923c731af5"
      },
      "execution_count": 26,
      "outputs": [
        {
          "output_type": "execute_result",
          "data": {
            "text/plain": [
              "                                                cast  \\\n",
              "0  [{'cast_id': 14, 'character': 'Woody (voice)',...   \n",
              "1  [{'cast_id': 1, 'character': 'Alan Parrish', '...   \n",
              "2  [{'cast_id': 2, 'character': 'Max Goldman', 'c...   \n",
              "3  [{'cast_id': 1, 'character': \"Savannah 'Vannah...   \n",
              "4  [{'cast_id': 1, 'character': 'George Banks', '...   \n",
              "\n",
              "                                                crew     id  \n",
              "0  [{'credit_id': '52fe4284c3a36847f8024f49', 'de...    862  \n",
              "1  [{'credit_id': '52fe44bfc3a36847f80a7cd1', 'de...   8844  \n",
              "2  [{'credit_id': '52fe466a9251416c75077a89', 'de...  15602  \n",
              "3  [{'credit_id': '52fe44779251416c91011acb', 'de...  31357  \n",
              "4  [{'credit_id': '52fe44959251416c75039ed7', 'de...  11862  "
            ],
            "text/html": [
              "\n",
              "  <div id=\"df-ae56c092-de7f-4723-aa4f-d5c778060a53\">\n",
              "    <div class=\"colab-df-container\">\n",
              "      <div>\n",
              "<style scoped>\n",
              "    .dataframe tbody tr th:only-of-type {\n",
              "        vertical-align: middle;\n",
              "    }\n",
              "\n",
              "    .dataframe tbody tr th {\n",
              "        vertical-align: top;\n",
              "    }\n",
              "\n",
              "    .dataframe thead th {\n",
              "        text-align: right;\n",
              "    }\n",
              "</style>\n",
              "<table border=\"1\" class=\"dataframe\">\n",
              "  <thead>\n",
              "    <tr style=\"text-align: right;\">\n",
              "      <th></th>\n",
              "      <th>cast</th>\n",
              "      <th>crew</th>\n",
              "      <th>id</th>\n",
              "    </tr>\n",
              "  </thead>\n",
              "  <tbody>\n",
              "    <tr>\n",
              "      <th>0</th>\n",
              "      <td>[{'cast_id': 14, 'character': 'Woody (voice)',...</td>\n",
              "      <td>[{'credit_id': '52fe4284c3a36847f8024f49', 'de...</td>\n",
              "      <td>862</td>\n",
              "    </tr>\n",
              "    <tr>\n",
              "      <th>1</th>\n",
              "      <td>[{'cast_id': 1, 'character': 'Alan Parrish', '...</td>\n",
              "      <td>[{'credit_id': '52fe44bfc3a36847f80a7cd1', 'de...</td>\n",
              "      <td>8844</td>\n",
              "    </tr>\n",
              "    <tr>\n",
              "      <th>2</th>\n",
              "      <td>[{'cast_id': 2, 'character': 'Max Goldman', 'c...</td>\n",
              "      <td>[{'credit_id': '52fe466a9251416c75077a89', 'de...</td>\n",
              "      <td>15602</td>\n",
              "    </tr>\n",
              "    <tr>\n",
              "      <th>3</th>\n",
              "      <td>[{'cast_id': 1, 'character': \"Savannah 'Vannah...</td>\n",
              "      <td>[{'credit_id': '52fe44779251416c91011acb', 'de...</td>\n",
              "      <td>31357</td>\n",
              "    </tr>\n",
              "    <tr>\n",
              "      <th>4</th>\n",
              "      <td>[{'cast_id': 1, 'character': 'George Banks', '...</td>\n",
              "      <td>[{'credit_id': '52fe44959251416c75039ed7', 'de...</td>\n",
              "      <td>11862</td>\n",
              "    </tr>\n",
              "  </tbody>\n",
              "</table>\n",
              "</div>\n",
              "      <button class=\"colab-df-convert\" onclick=\"convertToInteractive('df-ae56c092-de7f-4723-aa4f-d5c778060a53')\"\n",
              "              title=\"Convert this dataframe to an interactive table.\"\n",
              "              style=\"display:none;\">\n",
              "        \n",
              "  <svg xmlns=\"http://www.w3.org/2000/svg\" height=\"24px\"viewBox=\"0 0 24 24\"\n",
              "       width=\"24px\">\n",
              "    <path d=\"M0 0h24v24H0V0z\" fill=\"none\"/>\n",
              "    <path d=\"M18.56 5.44l.94 2.06.94-2.06 2.06-.94-2.06-.94-.94-2.06-.94 2.06-2.06.94zm-11 1L8.5 8.5l.94-2.06 2.06-.94-2.06-.94L8.5 2.5l-.94 2.06-2.06.94zm10 10l.94 2.06.94-2.06 2.06-.94-2.06-.94-.94-2.06-.94 2.06-2.06.94z\"/><path d=\"M17.41 7.96l-1.37-1.37c-.4-.4-.92-.59-1.43-.59-.52 0-1.04.2-1.43.59L10.3 9.45l-7.72 7.72c-.78.78-.78 2.05 0 2.83L4 21.41c.39.39.9.59 1.41.59.51 0 1.02-.2 1.41-.59l7.78-7.78 2.81-2.81c.8-.78.8-2.07 0-2.86zM5.41 20L4 18.59l7.72-7.72 1.47 1.35L5.41 20z\"/>\n",
              "  </svg>\n",
              "      </button>\n",
              "      \n",
              "  <style>\n",
              "    .colab-df-container {\n",
              "      display:flex;\n",
              "      flex-wrap:wrap;\n",
              "      gap: 12px;\n",
              "    }\n",
              "\n",
              "    .colab-df-convert {\n",
              "      background-color: #E8F0FE;\n",
              "      border: none;\n",
              "      border-radius: 50%;\n",
              "      cursor: pointer;\n",
              "      display: none;\n",
              "      fill: #1967D2;\n",
              "      height: 32px;\n",
              "      padding: 0 0 0 0;\n",
              "      width: 32px;\n",
              "    }\n",
              "\n",
              "    .colab-df-convert:hover {\n",
              "      background-color: #E2EBFA;\n",
              "      box-shadow: 0px 1px 2px rgba(60, 64, 67, 0.3), 0px 1px 3px 1px rgba(60, 64, 67, 0.15);\n",
              "      fill: #174EA6;\n",
              "    }\n",
              "\n",
              "    [theme=dark] .colab-df-convert {\n",
              "      background-color: #3B4455;\n",
              "      fill: #D2E3FC;\n",
              "    }\n",
              "\n",
              "    [theme=dark] .colab-df-convert:hover {\n",
              "      background-color: #434B5C;\n",
              "      box-shadow: 0px 1px 3px 1px rgba(0, 0, 0, 0.15);\n",
              "      filter: drop-shadow(0px 1px 2px rgba(0, 0, 0, 0.3));\n",
              "      fill: #FFFFFF;\n",
              "    }\n",
              "  </style>\n",
              "\n",
              "      <script>\n",
              "        const buttonEl =\n",
              "          document.querySelector('#df-ae56c092-de7f-4723-aa4f-d5c778060a53 button.colab-df-convert');\n",
              "        buttonEl.style.display =\n",
              "          google.colab.kernel.accessAllowed ? 'block' : 'none';\n",
              "\n",
              "        async function convertToInteractive(key) {\n",
              "          const element = document.querySelector('#df-ae56c092-de7f-4723-aa4f-d5c778060a53');\n",
              "          const dataTable =\n",
              "            await google.colab.kernel.invokeFunction('convertToInteractive',\n",
              "                                                     [key], {});\n",
              "          if (!dataTable) return;\n",
              "\n",
              "          const docLinkHtml = 'Like what you see? Visit the ' +\n",
              "            '<a target=\"_blank\" href=https://colab.research.google.com/notebooks/data_table.ipynb>data table notebook</a>'\n",
              "            + ' to learn more about interactive tables.';\n",
              "          element.innerHTML = '';\n",
              "          dataTable['output_type'] = 'display_data';\n",
              "          await google.colab.output.renderOutput(dataTable, element);\n",
              "          const docLink = document.createElement('div');\n",
              "          docLink.innerHTML = docLinkHtml;\n",
              "          element.appendChild(docLink);\n",
              "        }\n",
              "      </script>\n",
              "    </div>\n",
              "  </div>\n",
              "  "
            ]
          },
          "metadata": {},
          "execution_count": 26
        }
      ]
    },
    {
      "cell_type": "markdown",
      "source": [
        "### **Desanidar y convertir diccionarios de columnas**"
      ],
      "metadata": {
        "id": "U_qmayJrcKHb"
      }
    },
    {
      "cell_type": "code",
      "source": [
        "# desanidar la columna 'cast'\n",
        "desanidar_columnas(df_credits, ['cast'])"
      ],
      "metadata": {
        "id": "0ycRGU2sFxY7"
      },
      "execution_count": 27,
      "outputs": []
    },
    {
      "cell_type": "code",
      "source": [
        "# convertir la columna 'crew' de cadena a lista de diccionarios\n",
        "df_credits['crew'] = df_credits['crew'].apply(ast.literal_eval)\n",
        "\n",
        "# crear la columna 'director' y eliminar la columna 'crew'\n",
        "df_credits['director'] = df_credits['crew'].apply(lambda x: [item['name'] for item in x if item['job'] == 'Director'][0] if any(item['job'] == 'Director' for item in x) else 'sin dato')\n",
        "df_credits = df_credits.drop('crew', axis=1)"
      ],
      "metadata": {
        "id": "gNGN0x5JMdj_"
      },
      "execution_count": 28,
      "outputs": []
    },
    {
      "cell_type": "markdown",
      "source": [
        "### **Identificar y eliminar duplicados**"
      ],
      "metadata": {
        "id": "yjM4mOB-cXq1"
      }
    },
    {
      "cell_type": "code",
      "source": [
        "# lista de nombres de columnas a convertir\n",
        "columns_to_convert = ['cast', 'director']\n",
        "\n",
        "# convertir listas a tuplas para identificar duplicados\n",
        "df_credits[columns_to_convert] = df_credits[columns_to_convert].applymap(lambda x: tuple(x) if isinstance(x, (list)) else x)\n",
        "\n",
        "# contar duplicados\n",
        "df_credits.duplicated().sum()"
      ],
      "metadata": {
        "id": "BhAVr3YsEQpM",
        "colab": {
          "base_uri": "https://localhost:8080/"
        },
        "outputId": "14f2d3c7-fa02-4c45-eeec-4885448ceaa3"
      },
      "execution_count": 29,
      "outputs": [
        {
          "output_type": "execute_result",
          "data": {
            "text/plain": [
              "43"
            ]
          },
          "metadata": {},
          "execution_count": 29
        }
      ]
    },
    {
      "cell_type": "code",
      "source": [
        "# elimimar duplicados\n",
        "df_credits = df_credits.drop_duplicates()\n",
        "\n",
        "# reindexar el dataframe\n",
        "df_credits = df_credits.reset_index(drop=True)"
      ],
      "metadata": {
        "id": "ALCGVPi5FAHo"
      },
      "execution_count": 30,
      "outputs": []
    },
    {
      "cell_type": "markdown",
      "source": [
        "### **Tratar valores nulos**"
      ],
      "metadata": {
        "id": "5Nz5FS8qc6Sw"
      }
    },
    {
      "cell_type": "code",
      "source": [
        "# obtener las columnas con valores nulos\n",
        "columnas_nulas = df_credits.columns[df_credits.isnull().any()]\n",
        "columnas_nulas"
      ],
      "metadata": {
        "colab": {
          "base_uri": "https://localhost:8080/"
        },
        "id": "rTRiuIoZu9KB",
        "outputId": "d40b6885-3b98-4e2c-b2aa-9db59f866733"
      },
      "execution_count": 31,
      "outputs": [
        {
          "output_type": "execute_result",
          "data": {
            "text/plain": [
              "Index([], dtype='object')"
            ]
          },
          "metadata": {},
          "execution_count": 31
        }
      ]
    },
    {
      "cell_type": "markdown",
      "source": [
        "No se encontraron valores nulos en este dataset"
      ],
      "metadata": {
        "id": "fcAAKXpzwwp8"
      }
    },
    {
      "cell_type": "code",
      "source": [
        "# obtener la longitud de la lista más larga en la columna de actores\n",
        "max(len(actor_list) for actor_list in df_credits['cast'])"
      ],
      "metadata": {
        "id": "siJeNgZ1eAgJ",
        "colab": {
          "base_uri": "https://localhost:8080/"
        },
        "outputId": "a87e5349-9ed7-443b-f0aa-4eb2d545f186"
      },
      "execution_count": 32,
      "outputs": [
        {
          "output_type": "execute_result",
          "data": {
            "text/plain": [
              "313"
            ]
          },
          "metadata": {},
          "execution_count": 32
        }
      ]
    },
    {
      "cell_type": "code",
      "source": [
        "# IMDB considera reparto principal los tres primeros actores, de modo que las listas se reducirán a un máximo de 5 actores.\n",
        "df_credits['cast'] = df_credits['cast'].apply(lambda x: x[:5])"
      ],
      "metadata": {
        "id": "CLI2QEj_eNkP"
      },
      "execution_count": 33,
      "outputs": []
    },
    {
      "cell_type": "markdown",
      "source": [
        "### **Unir los dataframes movies y credits**"
      ],
      "metadata": {
        "id": "-2GmzeHMdV54"
      }
    },
    {
      "cell_type": "code",
      "source": [
        "df = pd.merge(df_movies, df_credits, on='id')"
      ],
      "metadata": {
        "id": "01reqQdYO7s6"
      },
      "execution_count": 34,
      "outputs": []
    },
    {
      "cell_type": "markdown",
      "source": [
        "### **Guardar el csv completo y limpio**"
      ],
      "metadata": {
        "id": "fHe2T7JQdkX9"
      }
    },
    {
      "cell_type": "code",
      "source": [
        "# especificar la ruta y el nombre de archivo para guardar el archivo CSV\n",
        "csv_file = \"/content/drive/MyDrive/Colab Notebooks/movies_credits_limpio.csv\"\n",
        "\n",
        "# guardar el DataFrame en un archivo CSV sin comillas y con el formato de fecha específico\n",
        "df.to_csv(csv_file, date_format='%Y-%m-%d', index=False)\n",
        "\n",
        "print(\"Archivo CSV guardado exitosamente.\")"
      ],
      "metadata": {
        "colab": {
          "base_uri": "https://localhost:8080/"
        },
        "id": "OCdGMmX3G2ZP",
        "outputId": "e7368d44-31e8-40d1-c818-2f831f7bbec3"
      },
      "execution_count": 35,
      "outputs": [
        {
          "output_type": "stream",
          "name": "stdout",
          "text": [
            "Archivo CSV guardado exitosamente.\n"
          ]
        }
      ]
    }
  ]
}