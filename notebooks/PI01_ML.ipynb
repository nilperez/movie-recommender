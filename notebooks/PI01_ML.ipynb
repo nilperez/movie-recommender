{
  "nbformat": 4,
  "nbformat_minor": 0,
  "metadata": {
    "colab": {
      "provenance": []
    },
    "kernelspec": {
      "name": "python3",
      "display_name": "Python 3"
    },
    "language_info": {
      "name": "python"
    }
  },
  "cells": [
    {
      "cell_type": "markdown",
      "source": [
        "### **Importación de librerías**"
      ],
      "metadata": {
        "id": "hOwXWnui0SY-"
      }
    },
    {
      "cell_type": "code",
      "execution_count": 1,
      "metadata": {
        "id": "Q4pemr2vwibj"
      },
      "outputs": [],
      "source": [
        "import pandas as pd\n",
        "import numpy as np\n",
        "import ast\n",
        "import nltk\n",
        "from nltk.corpus import stopwords\n",
        "from sklearn.feature_extraction.text import TfidfVectorizer\n",
        "from sklearn.feature_extraction.text import CountVectorizer\n",
        "from sklearn.neighbors import NearestNeighbors\n",
        "from sklearn.metrics.pairwise import cosine_similarity\n",
        "from collections import Counter"
      ]
    },
    {
      "cell_type": "markdown",
      "source": [
        "### **Cargar el archivo csv, con el ETL realizado y dar formato de listas de python a las listas de las columnas**\n",
        "\n"
      ],
      "metadata": {
        "id": "ST2ZSWGD0eVR"
      }
    },
    {
      "cell_type": "code",
      "source": [
        "df = pd.read_csv('/content/drive/MyDrive/Colab Notebooks/movies_credits_limpio.csv', parse_dates=['release_date'])"
      ],
      "metadata": {
        "id": "lAke4mZnx5tp"
      },
      "execution_count": 2,
      "outputs": []
    },
    {
      "cell_type": "code",
      "source": [
        "list_columns = ['genres', 'production_companies', 'production_countries', 'spoken_languages', 'cast']\n",
        "df[list_columns] = df[list_columns].applymap(lambda x: list(ast.literal_eval(x)))"
      ],
      "metadata": {
        "id": "-dvZW8y0PTSn"
      },
      "execution_count": 3,
      "outputs": []
    },
    {
      "cell_type": "code",
      "source": [
        "df.info()"
      ],
      "metadata": {
        "id": "i4RwEvJTKfCG",
        "colab": {
          "base_uri": "https://localhost:8080/"
        },
        "outputId": "4cf6dc01-4793-4c9a-b3d5-e37b62d1656f"
      },
      "execution_count": 4,
      "outputs": [
        {
          "output_type": "stream",
          "name": "stdout",
          "text": [
            "<class 'pandas.core.frame.DataFrame'>\n",
            "RangeIndex: 45367 entries, 0 to 45366\n",
            "Data columns (total 25 columns):\n",
            " #   Column                    Non-Null Count  Dtype         \n",
            "---  ------                    --------------  -----         \n",
            " 0   budget                    45367 non-null  int64         \n",
            " 1   genres                    45367 non-null  object        \n",
            " 2   id                        45367 non-null  int64         \n",
            " 3   original_language         45367 non-null  object        \n",
            " 4   overview                  45367 non-null  object        \n",
            " 5   popularity                45367 non-null  float64       \n",
            " 6   production_companies      45367 non-null  object        \n",
            " 7   production_countries      45367 non-null  object        \n",
            " 8   release_date              45367 non-null  datetime64[ns]\n",
            " 9   revenue                   45367 non-null  float64       \n",
            " 10  runtime                   45367 non-null  float64       \n",
            " 11  spoken_languages          45367 non-null  object        \n",
            " 12  status                    45367 non-null  object        \n",
            " 13  tagline                   45367 non-null  object        \n",
            " 14  title                     45367 non-null  object        \n",
            " 15  vote_average              45367 non-null  float64       \n",
            " 16  vote_count                45367 non-null  int64         \n",
            " 17  id_collection             45367 non-null  int64         \n",
            " 18  name_collection           45367 non-null  object        \n",
            " 19  poster_path_collection    45367 non-null  object        \n",
            " 20  backdrop_path_collection  45367 non-null  object        \n",
            " 21  return                    45367 non-null  float64       \n",
            " 22  release_year              45367 non-null  int64         \n",
            " 23  cast                      45367 non-null  object        \n",
            " 24  director                  45367 non-null  object        \n",
            "dtypes: datetime64[ns](1), float64(5), int64(5), object(14)\n",
            "memory usage: 8.7+ MB\n"
          ]
        }
      ]
    },
    {
      "cell_type": "markdown",
      "source": [
        "### **Preparar los datos**"
      ],
      "metadata": {
        "id": "JaUYbj2rNhDh"
      }
    },
    {
      "cell_type": "markdown",
      "source": [
        "Función para quitar **stopwords**"
      ],
      "metadata": {
        "id": "bKprJ28GOzN2"
      }
    },
    {
      "cell_type": "code",
      "source": [
        "# Descargar las stopwords en inglés si no están disponibles\n",
        "nltk.download('stopwords')\n",
        "\n",
        "# Obtener las stopwords en inglés\n",
        "stop_words = set(stopwords.words('english'))\n",
        "stop_words.update(',',';','!','?','.','(',')','$','#','+',':','...',' ','')\n",
        "\n",
        "# Función para limpiar el texto\n",
        "def clean_text(text):\n",
        "    # Tokenizar el texto en palabras individuales\n",
        "    tokens = text.split()\n",
        "\n",
        "    # Eliminar las stopwords y los signos de puntuación\n",
        "    tokens_cleaned = [token.lower() for token in tokens if token.lower() not in stop_words]\n",
        "\n",
        "    # Unir las palabras limpias en un solo texto nuevamente\n",
        "    text_cleaned = ' '.join(tokens_cleaned)\n",
        "\n",
        "    return text_cleaned"
      ],
      "metadata": {
        "id": "dUI1d914yh-o",
        "colab": {
          "base_uri": "https://localhost:8080/"
        },
        "outputId": "98dceaf3-b88d-4376-db05-4de2c3a76090"
      },
      "execution_count": 5,
      "outputs": [
        {
          "output_type": "stream",
          "name": "stderr",
          "text": [
            "[nltk_data] Downloading package stopwords to /root/nltk_data...\n",
            "[nltk_data]   Package stopwords is already up-to-date!\n"
          ]
        }
      ]
    },
    {
      "cell_type": "markdown",
      "source": [
        "### Modelo usando `TfidfVectorizer` para convertir texto en características numéricas"
      ],
      "metadata": {
        "id": "xWq2xUqtU5gB"
      }
    },
    {
      "cell_type": "markdown",
      "source": [
        "Combinar las columnas que se usarán y vectorizar el resultado de la combinación"
      ],
      "metadata": {
        "id": "Ge9e35K8VYEP"
      }
    },
    {
      "cell_type": "code",
      "source": [
        "# Combinar las columnas \"overview\", \"genres\", \"cast\" y \"director\" en una sola columna\n",
        "df['combined'] = df['overview'] + ' ' + df['genres'].apply(lambda x: ' '.join(x)) + ' ' + df['cast'].apply(lambda x: ' '.join(''.join(name.split()) for name in x)) + \\\n",
        "    ' ' + df['director'].apply(lambda x: ''.join(x.split())) + ' ' + df['popularity'].astype(str) + ' ' + df['vote_average'].astype(str)\n",
        "\n",
        "# Crear una instancia de TfidfVectorizer para vectorizar el texto combinado\n",
        "tfidf = TfidfVectorizer(stop_words='english', ngram_range=(1, 2))\n",
        "\n",
        "# Aplicar TF-IDF al texto combinado\n",
        "tfidf_matrix = tfidf.fit_transform(df['combined'])"
      ],
      "metadata": {
        "id": "WPKto8ixBQKF"
      },
      "execution_count": 6,
      "outputs": []
    },
    {
      "cell_type": "markdown",
      "source": [
        "Función que realiza la recomendación"
      ],
      "metadata": {
        "id": "jrXpIAv5V1B4"
      }
    },
    {
      "cell_type": "code",
      "source": [
        "def recomendacionTfidf(titulo):\n",
        "    indices = df[df['title'] == titulo].index\n",
        "\n",
        "    if len(indices) > 1:\n",
        "        return {\"error\": f\"Se encontraron múltiples películas con el título '{titulo}'.\"}\n",
        "    elif len(indices) == 1:\n",
        "        indice = indices[0]\n",
        "        similitud_cos = cosine_similarity(tfidf_matrix[indice], tfidf_matrix).flatten()\n",
        "        scores_similares = list(enumerate(similitud_cos))\n",
        "        scores_similares = sorted(scores_similares, key=lambda x: x[1], reverse=True)\n",
        "        indices_movie = [i[0] for i in scores_similares[1:6]]\n",
        "        lista_recomendada = df['title'].iloc[indices_movie].tolist()\n",
        "        respuesta = {\n",
        "            'lista_recomendada': lista_recomendada\n",
        "        }\n",
        "        return respuesta\n",
        "    else:\n",
        "        return {\"error\": f\"No se encontró ninguna película con el título '{titulo}'.\"}"
      ],
      "metadata": {
        "id": "QTTRNi7Af9BJ"
      },
      "execution_count": 7,
      "outputs": []
    },
    {
      "cell_type": "markdown",
      "source": [
        "Ejemplo"
      ],
      "metadata": {
        "id": "RQZS5ZAbWtR5"
      }
    },
    {
      "cell_type": "code",
      "source": [
        "recomendacionTfidf('Avatar')"
      ],
      "metadata": {
        "colab": {
          "base_uri": "https://localhost:8080/"
        },
        "id": "8oyzfI4aK9mL",
        "outputId": "5ac4c0f6-93b4-4797-eb0b-30dd26d2d2b6"
      },
      "execution_count": 8,
      "outputs": [
        {
          "output_type": "execute_result",
          "data": {
            "text/plain": [
              "{'lista_recomendada': ['Avatar 2',\n",
              "  'Stand by Me Doraemon',\n",
              "  'The War of the Robots',\n",
              "  'Guardians of the Galaxy Vol. 2',\n",
              "  'A Trip to the Moon']}"
            ]
          },
          "metadata": {},
          "execution_count": 8
        }
      ]
    },
    {
      "cell_type": "markdown",
      "source": [
        "### Modelo usando `CountVectorizer` para convertir texto en características numéricas"
      ],
      "metadata": {
        "id": "cj_bp6jDWhPL"
      }
    },
    {
      "cell_type": "markdown",
      "source": [
        "Combinar las columnas que se usarán y vectorizar el resultado de la combinación"
      ],
      "metadata": {
        "id": "V1iAOwu7XXrP"
      }
    },
    {
      "cell_type": "code",
      "source": [
        "# Seleccionar las columnas relevantes para la matriz de términos\n",
        "df1 = df[['genres', 'overview', 'popularity', 'title', 'vote_average', 'release_year', 'cast', 'director']]\n",
        "\n",
        "# Crear una instancia del vectorizador\n",
        "vectorizer = CountVectorizer()\n",
        "\n",
        "# Concatenar las columnas 'overview', 'genres', 'cast' y 'director' en un solo texto\n",
        "textos_concatenados = df1['overview'].apply(clean_text) + ' ' + df1['genres'].apply(lambda x: ' '.join(x)) + ' ' + df1['cast'].apply(lambda x: ' '.join(''.join(name.split()) for name in x)) + \\\n",
        "  ' ' + df1['director'].apply(lambda x: ''.join(x.split())) + ' ' + df1['popularity'].astype(str) + ' ' + df1['vote_average'].astype(str)\n",
        "\n",
        "# Crear la matriz de términos\n",
        "terminos_mat = vectorizer.fit_transform(textos_concatenados)"
      ],
      "metadata": {
        "id": "sV43wfAi08D_"
      },
      "execution_count": 9,
      "outputs": []
    },
    {
      "cell_type": "markdown",
      "source": [
        "Función que realiza la recomendación"
      ],
      "metadata": {
        "id": "8_8xH-9NXquM"
      }
    },
    {
      "cell_type": "code",
      "source": [
        "def recomendacionCount(titulo: str):\n",
        "    indices = df1[df1['title'] == titulo].index\n",
        "\n",
        "    if len(indices) > 1:\n",
        "        return {\"error\": f\"Se encontraron múltiples películas con el título '{titulo}'.\"}\n",
        "    elif len(indices) == 1:\n",
        "        indice = indices[0]\n",
        "        vector_pelicula = terminos_mat[indice]\n",
        "        similitud_cos = cosine_similarity(vector_pelicula, terminos_mat)[0]\n",
        "        scores_similares = list(enumerate(similitud_cos))\n",
        "        scores_similares = sorted(scores_similares, key=lambda x: x[1], reverse=True)\n",
        "        indices_movie = [i[0] for i in scores_similares[1:6]]\n",
        "        lista_recomendada = df['title'].iloc[indices_movie].tolist()\n",
        "        respuesta = {\n",
        "            'lista_recomendada': lista_recomendada\n",
        "        }\n",
        "        return respuesta\n",
        "    else:\n",
        "        return {\"error\": f\"No se encontró ninguna película con el título '{titulo}'.\"}"
      ],
      "metadata": {
        "id": "D5wR1onhFkPl"
      },
      "execution_count": 10,
      "outputs": []
    },
    {
      "cell_type": "markdown",
      "source": [
        "Ejemplo"
      ],
      "metadata": {
        "id": "lJCOCPl3XtDS"
      }
    },
    {
      "cell_type": "code",
      "source": [
        "recomendacionCount('Avatar')"
      ],
      "metadata": {
        "colab": {
          "base_uri": "https://localhost:8080/"
        },
        "id": "AOCdDBP7ME2A",
        "outputId": "742cac2d-7a6c-47da-98ff-7c07bae99777"
      },
      "execution_count": 11,
      "outputs": [
        {
          "output_type": "execute_result",
          "data": {
            "text/plain": [
              "{'lista_recomendada': ['Avatar 2',\n",
              "  'A Trip to the Moon',\n",
              "  'Fly Me to the Moon',\n",
              "  \"Frank Herbert's Dune\",\n",
              "  'Guardians of the Galaxy Vol. 2']}"
            ]
          },
          "metadata": {},
          "execution_count": 11
        }
      ]
    },
    {
      "cell_type": "markdown",
      "source": [
        "### Modelo usando **KNN**"
      ],
      "metadata": {
        "id": "8dWAVyFG5MTz"
      }
    },
    {
      "cell_type": "code",
      "source": [
        "def recomendacionKNN(title):\n",
        "    # Crear una instancia del clasificador KNN\n",
        "    knn = NearestNeighbors(n_neighbors=6, metric='cosine')\n",
        "\n",
        "    # Ajustar el modelo KNN utilizando la matriz tfidf_matrix\n",
        "    knn.fit(tfidf_matrix)\n",
        "\n",
        "    # Encontrar el índice de la película de entrada\n",
        "    entrada_index = df[df['title'] == title].index[0]\n",
        "\n",
        "    # Encontrar los vecinos más cercanos a la película de entrada\n",
        "    distances, indices = knn.kneighbors(tfidf_matrix[entrada_index])\n",
        "\n",
        "    # Recuperar los títulos de las películas recomendadas utilizando los índices encontrados\n",
        "    recommended_movies = df.iloc[indices[0][1:]]['title']\n",
        "\n",
        "    # Devolver las películas recomendadas\n",
        "    return recommended_movies\n"
      ],
      "metadata": {
        "id": "0ANCdnumdlwn"
      },
      "execution_count": 12,
      "outputs": []
    },
    {
      "cell_type": "code",
      "source": [
        "recomendacionKNN('Avatar')"
      ],
      "metadata": {
        "colab": {
          "base_uri": "https://localhost:8080/"
        },
        "id": "Jqwy-Od-fhu6",
        "outputId": "b969003a-29b8-4e18-88fa-35a4f0929c8d"
      },
      "execution_count": 13,
      "outputs": [
        {
          "output_type": "execute_result",
          "data": {
            "text/plain": [
              "26532                          Avatar 2\n",
              "28616              Stand by Me Doraemon\n",
              "18001             The War of the Robots\n",
              "26539    Guardians of the Galaxy Vol. 2\n",
              "9954                 A Trip to the Moon\n",
              "Name: title, dtype: object"
            ]
          },
          "metadata": {},
          "execution_count": 13
        }
      ]
    }
  ]
}